{
  "nbformat": 4,
  "nbformat_minor": 0,
  "metadata": {
    "colab": {
      "provenance": []
    },
    "kernelspec": {
      "name": "python3",
      "display_name": "Python 3"
    },
    "language_info": {
      "name": "python"
    }
  },
  "cells": [
    {
      "cell_type": "markdown",
      "source": [
        "**POSTUP**\n",
        "1. Filtrace dat pomocí SQL\n",
        "2. Čištění dat\n",
        "3. Aplikování OneHotEncoding (OHE) k převedení kategorických dat na binární hodnoty\n",
        "4. Odstranění přebývajících sloupců zbývajících po OHE\n",
        "5. Uplatnění SMOTE\n",
        "6. Vytváření modelů - vybrán model Random Forest\n",
        "7. Vytvoření dvou skupin z vybraných 5000 a zkoumání poměru mezi nimi\n",
        "8. Výpočet předpokládané míry konverze\n",
        "\n",
        "**POPIS**\n",
        "\n",
        "Our commitment to data-driven marketing has yielded valuable insights to optimize our campaign. We employed advanced techniques like one-hot encoding, SMOTE, and A/B testing to refine our targeting strategy and best data model.\n",
        "\n",
        "This analysis revealed a critical finding: prioritizing candidates with a high probability of conversion (Group 2) holds significant promise. Compared to the initial focus on high expected revenue alone (Group 1), Group 2 demonstrates best ratio between probability and estimated conversion value.\n",
        "\n",
        "These data-driven results make us confident that the campaign will achieve successful outcomes.\n",
        "\n",
        "\n",
        "\n"
      ],
      "metadata": {
        "id": "278f2bG1utUn"
      }
    },
    {
      "cell_type": "code",
      "execution_count": null,
      "metadata": {
        "id": "8xOg09JZ79Ot"
      },
      "outputs": [],
      "source": [
        "import sqlite3\n",
        "import pandas as pd\n",
        "\n",
        "# Připojení k SQLite databázi\n",
        "conn = sqlite3.connect('/content/data.db')\n",
        "\n",
        "# Načtení dat z určité tabulky do pandas DataFrame\n",
        "dt_select = '''\n",
        "SELECT DISTINCT * from Accounts a\n",
        "LEFT JOIN Campaigns c on a.id = c.account_id\n",
        "LEFT JOIN Clients cl on a.client_id = cl.id\n",
        "LEFT JOIN Outcomes o on o.campaign_id = c.id\n",
        "WHERE a.in_default = 'no' AND c.pdays != -1 AND poutcome != 'unknown'\n",
        "'''\n",
        "\n",
        "df = pd.read_sql_query(dt_select, conn)\n",
        "\n",
        "# Uzavření připojení\n",
        "conn.close()\n",
        "\n",
        "df.head(10)"
      ]
    },
    {
      "cell_type": "code",
      "source": [
        "# We dropped the columns that we do not find as important\n",
        "df.drop(columns=(['account_id', 'campaign_id','in_default', 'contact', 'id', 'day', 'month', 'duration', 'previous', 'campaign', 'pdays']), inplace=True, axis=0)\n"
      ],
      "metadata": {
        "id": "5Pj6vSGcoiPp"
      },
      "execution_count": null,
      "outputs": []
    },
    {
      "cell_type": "code",
      "source": [
        "# Uložení DataFrame do CSV souboru\n",
        "df.to_csv('1_phase_5.csv', index=False)"
      ],
      "metadata": {
        "id": "wI_1cI-GokFY"
      },
      "execution_count": null,
      "outputs": []
    },
    {
      "cell_type": "markdown",
      "source": [
        "Převedení kategorických dat na binární za pomoci OneHotEncoding"
      ],
      "metadata": {
        "id": "AXVTSP8R4cBh"
      }
    },
    {
      "cell_type": "code",
      "source": [
        "# One hot encoding\n",
        "columns_to_encode = ['housing', 'loan', 'job', 'marital', 'education', 'poutcome', 'y']\n",
        "\n",
        "df_encoded = pd.get_dummies(df, columns=columns_to_encode)\n",
        "#df_encoded.tail()\n",
        "\n",
        "boolean_columns = df_encoded.select_dtypes(include=['bool']).columns\n",
        "df_encoded[boolean_columns] = df_encoded[boolean_columns].astype(int)\n",
        "# Zobrazíme první řádky upraveného dataframe\n",
        "df_encoded.head()\n",
        "df_encoded.info()"
      ],
      "metadata": {
        "id": "NtKVKAmSomIx"
      },
      "execution_count": null,
      "outputs": []
    },
    {
      "cell_type": "code",
      "source": [
        "df_encoded.head()\n",
        "# saving the OHE data\n",
        "df_encoded.to_csv('1_phase_df_encoded.csv', index=False)"
      ],
      "metadata": {
        "id": "tlp2Xks9ooB6"
      },
      "execution_count": null,
      "outputs": []
    },
    {
      "cell_type": "code",
      "source": [
        "import pandas as pd\n",
        "\n",
        "# Read the CSV file into a dataframe\n",
        "df = pd.read_csv('1_phase_df_encoded.csv')\n",
        "\n",
        "# Display the dataframe\n",
        "df.head()"
      ],
      "metadata": {
        "id": "vGKz5e7Qoyt9"
      },
      "execution_count": null,
      "outputs": []
    },
    {
      "cell_type": "code",
      "source": [
        "df = df[~(df['poutcome_other'] == 1)]\n"
      ],
      "metadata": {
        "id": "1RWroBbIo1c2"
      },
      "execution_count": null,
      "outputs": []
    },
    {
      "cell_type": "code",
      "source": [
        "columns_to_drop = ['housing_no', 'loan_no', 'client_id', 'education_unknown', 'poutcome_other','poutcome_failure', 'y_no', 'job_unknown']  # Nahraďte názvy sloupců podle potřeby\n",
        "df = df.drop(columns=columns_to_drop)\n"
      ],
      "metadata": {
        "id": "gWph8VvJo3gB"
      },
      "execution_count": null,
      "outputs": []
    },
    {
      "cell_type": "code",
      "source": [
        "columns_to_drop = ['job_unknown']  # Nahraďte názvy sloupců podle potřeby\n",
        "df = df.drop(columns=columns_to_drop)"
      ],
      "metadata": {
        "id": "-fm7hEcQo5XH"
      },
      "execution_count": null,
      "outputs": []
    },
    {
      "cell_type": "markdown",
      "source": [
        "Aplikování SMOTE pro řešení problému s nevyváženým datasetem."
      ],
      "metadata": {
        "id": "UsqGV1Nn4ggV"
      }
    },
    {
      "cell_type": "code",
      "source": [
        "from imblearn.over_sampling import SMOTE\n",
        "import pandas as pd\n",
        "\n",
        "# Rename dataframe to match user's dataframe name\n",
        "\n",
        "# Separate features and target variable\n",
        "X = df.drop(columns=['y_yes'])\n",
        "y = df['y_yes']\n",
        "\n",
        "# Apply SMOTE for over-sampling\n",
        "smote = SMOTE(random_state=42)\n",
        "X_res, y_res = smote.fit_resample(X, y)\n",
        "\n",
        "# Combine resampled features and target variable\n",
        "df_resampled = pd.concat([X_res, y_res], axis=1)\n",
        "\n",
        "# Check the distribution of the target variable to ensure balance\n",
        "resampled_distribution = df_resampled['y_yes'].value_counts()\n",
        "print(resampled_distribution)"
      ],
      "metadata": {
        "id": "8QTBS_jJo7CT"
      },
      "execution_count": null,
      "outputs": []
    },
    {
      "cell_type": "code",
      "source": [
        "df.head()"
      ],
      "metadata": {
        "id": "6Q_QuYyRo9H6"
      },
      "execution_count": null,
      "outputs": []
    },
    {
      "cell_type": "code",
      "source": [
        "df_resampled.to_csv('df_SMOTE.csv', index=False)"
      ],
      "metadata": {
        "id": "mcectGFwo_Fe"
      },
      "execution_count": null,
      "outputs": []
    },
    {
      "cell_type": "markdown",
      "source": [
        "Vytváření trénovacích modelů\n",
        "\n",
        "MODELY:\n",
        "1. LAMINE: Gradient Boosting model\n",
        "2. HELENA: SVM model\n",
        "3. SANDRA: Random Forest\n",
        "4. MAREK:"
      ],
      "metadata": {
        "id": "RnU1lyKWrWXR"
      }
    },
    {
      "cell_type": "markdown",
      "source": [
        "**LAMINE** - Gradient Boosting"
      ],
      "metadata": {
        "id": "nNQ2UXvgrt-v"
      }
    },
    {
      "cell_type": "code",
      "source": [
        "import numpy as np\n",
        "import pandas as pd\n",
        "from sklearn.model_selection import train_test_split\n",
        "from sklearn.preprocessing import StandardScaler\n",
        "from sklearn.linear_model import LogisticRegression\n",
        "from sklearn.utils.class_weight import compute_class_weight\n",
        "from sklearn.metrics import accuracy_score, precision_score, recall_score, f1_score\n",
        "\n",
        "# Step 1: Load Data and Define Target Variable\n",
        "data = pd.read_csv('df_SMOTE2.csv')\n",
        "\n",
        "target = 'y_yes'  # Assuming 'y_yes' is the target variable\n",
        "\n",
        "# Step 2: Preprocess Data\n",
        "\n",
        "# Check for missing values\n",
        "missing_values = data.isnull().sum().sum()\n",
        "print(\"Missing values:\", missing_values)\n",
        "\n",
        "# Handle missing values if there are any (e.g., fillna or dropna)\n",
        "# data = data.fillna(method='ffill')  # Example of filling missing values\n",
        "# Separate features and target\n",
        "X = data.drop(target, axis=1)\n",
        "y = data[target]\n",
        "\n",
        "# Ensure target variable is suitable for classification (optional)\n",
        "print(\"Target variable data type:\", y.dtype)\n",
        "\n",
        "# Standardize data (recommended for weighted classifiers)\n",
        "scaler = StandardScaler()\n",
        "X_scaled = scaler.fit_transform(X)\n",
        "\n",
        "# Train-test split\n",
        "X_train, X_test, y_train, y_test = train_test_split(X_scaled, y, test_size=0.6, random_state=42)\n",
        "\n",
        "# Compute class weights\n",
        "class_weights = compute_class_weight(class_weight='balanced', classes=np.unique(y_train), y=y_train)\n",
        "class_weights_dict = {i: class_weights[i] for i in range(len(class_weights))}\n",
        "\n",
        "# Step 3: Train and Evaluate Logistic Regression Model\n",
        "\n",
        "# Define and train the Logistic Regression model\n",
        "model = LogisticRegression(class_weight=class_weights_dict)\n",
        "model.fit(X_train, y_train)\n",
        "\n",
        "# Make predictions on test set\n",
        "y_pred = model.predict(X_test)\n",
        "\n",
        "# Evaluate model performance\n",
        "accuracy = accuracy_score(y_test, y_pred)\n",
        "precision = precision_score(y_test, y_pred)\n",
        "recall = recall_score(y_test, y_pred)\n",
        "f1 = f1_score(y_test, y_pred)\n",
        "\n",
        "print(\"Logistic Regression - Accuracy:\", accuracy)\n",
        "print(\"Logistic Regression - Precision:\", precision)\n",
        "print(\"Logistic Regression - Recall:\", recall)\n",
        "print(\"Logistic Regression - F1-score:\", f1)\n",
        "\n",
        "##############################################################\n",
        "\n",
        "# Step 4: Identify Top 5000 Likely Buyers\n",
        "\n",
        "# Predict probabilities for the entire dataset using Logistic Regression\n",
        "probabilities = model.predict_proba(X_scaled)[:, 1]\n",
        "\n",
        "# Create a DataFrame with the original data and the predicted probabilities\n",
        "data_with_prob = data.copy()\n",
        "data_with_prob['probability'] = probabilities\n",
        "\n",
        "# Sort the DataFrame by probability in descending order\n",
        "data_with_prob_sorted = data_with_prob.sort_values(by='probability', ascending=False)\n",
        "\n",
        "# Select the top 5000 individuals\n",
        "top_5000 = data_with_prob_sorted.head(5000)\n",
        "\n",
        "# Display the top 5000 individuals\n",
        "print(top_5000)\n",
        "\n",
        "# Optionally, save the top 5000 individuals to a CSV file\n",
        "top_5000.to_csv('top_5000_customers.csv', index=False)\n",
        "\n"
      ],
      "metadata": {
        "id": "74rMJ7Ob-Zi2"
      },
      "execution_count": null,
      "outputs": []
    },
    {
      "cell_type": "markdown",
      "source": [
        "**HELENA** - SVM model, pipeline, nn"
      ],
      "metadata": {
        "id": "Kgkh15znrxx5"
      }
    },
    {
      "cell_type": "code",
      "source": [
        "import pandas as pd\n",
        "import matplotlib.pyplot as plt\n",
        "import seaborn as sns\n",
        "from sklearn.model_selection import train_test_split, GridSearchCV\n",
        "from sklearn.preprocessing import StandardScaler\n",
        "from sklearn.svm import SVC\n",
        "from sklearn.pipeline import Pipeline\n",
        "from sklearn.metrics import classification_report, accuracy_score, confusion_matrix, roc_auc_score, roc_curve\n",
        "\n",
        "# Načtení dat\n",
        "data = pd.read_csv('/content/df_SMOTE2.csv')\n",
        "\n",
        "# Předpokládejme, že poslední sloupec je cílová proměnná\n",
        "X = data.iloc[:, :-1]  # Všechny sloupce kromě posledního\n",
        "y = data.iloc[:, -1]   # Poslední sloupec\n",
        "\n",
        "# Rozdělení dat na trénovací a testovací sadu\n",
        "X_train, X_test, y_train, y_test = train_test_split(X, y, test_size=0.2, random_state=42)\n",
        "\n",
        "# Pipeline pro škálování a trénování modelu\n",
        "pipeline = Pipeline([\n",
        "    ('scaler', StandardScaler()),\n",
        "    ('svm', SVC(probability=True))  # Nastavení probability=True pro výpočet pravděpodobností\n",
        "])\n",
        "\n",
        "# Definování mřížky parametrů pro GridSearch\n",
        "param_grid = {\n",
        "    'svm__kernel': ['linear', 'rbf', 'poly'],\n",
        "    'svm__C': [0.1, 1, 10, 100],\n",
        "    'svm__gamma': ['scale', 'auto']\n",
        "}\n",
        "\n",
        "# Použití GridSearchCV s 10-fold cross-validation\n",
        "grid_search = GridSearchCV(pipeline, param_grid, cv=10, scoring='accuracy')\n",
        "grid_search.fit(X_train, y_train)\n",
        "\n",
        "# Predikce a vyhodnocení modelu na testovací sadě\n",
        "y_pred = grid_search.best_estimator_.predict(X_test)\n",
        "\n",
        "print(\"Best parameters found:\", grid_search.best_params_)\n",
        "print(\"Accuracy on test set:\", accuracy_score(y_test, y_pred))\n",
        "print(\"Classification Report:\\n\", classification_report(y_test, y_pred))\n",
        "\n",
        "# Výpis matice záměny\n",
        "con_matrix = confusion_matrix(y_test, y_pred)\n",
        "plt.figure(figsize=(10,7))\n",
        "sns.heatmap(con_matrix, annot=True, fmt='d', cmap='Blues')\n",
        "plt.xlabel('Predicted')\n",
        "plt.ylabel('Actual')\n",
        "plt.title('Confusion Matrix')\n",
        "plt.show()\n",
        "\n",
        "# Predikce pravděpodobností pro celý dataset\n",
        "scaler = grid_search.best_estimator_.named_steps['scaler']\n",
        "svm_model = grid_search.best_estimator_.named_steps['svm']\n",
        "y_prob_full = svm_model.predict_proba(scaler.transform(X))\n",
        "\n",
        "print(\"Predicted probabilities for the entire dataset:\\n\", y_prob_full)\n",
        "\n",
        "# Další vyhodnocení modelu\n",
        "# ROC AUC skóre\n",
        "y_prob = svm_model.predict_proba(scaler.transform(X_test))\n",
        "roc_auc = roc_auc_score(y_test, y_prob[:, 1])\n",
        "print(\"ROC AUC Score:\", roc_auc)\n",
        "\n",
        "# ROC křivka\n",
        "fpr, tpr, thresholds = roc_curve(y_test, y_prob[:, 1])\n",
        "plt.figure(figsize=(8, 6))\n",
        "plt.plot(fpr, tpr, color='blue', lw=2, label='ROC curve (area = %0.2f)' % roc_auc)\n",
        "plt.plot([0, 1], [0, 1], color='gray', lw=2, linestyle='--')\n",
        "plt.xlabel('False Positive Rate')\n",
        "plt.ylabel('True Positive Rate')\n",
        "plt.title('Receiver Operating Characteristic (ROC) Curve')\n",
        "plt.legend(loc=\"lower right\")\n",
        "plt.show()\n",
        "\n",
        "\n",
        "# Predikce nových dat\n",
        "new_data = pd.read_csv('/content/to_clean_cleaned.csv')\n",
        "new_data_drop = new_data.drop(columns=['client_id', 'y_yes'])\n",
        "\n",
        "\n",
        "# Predikce pravděpodobností pro nové data\n",
        "new_predictions = grid_search.best_estimator_.predict_proba(new_data_drop)\n",
        "print(\"New Predictions Probabilities:\\n\", new_predictions)\n",
        "\n"
      ],
      "metadata": {
        "id": "LBfAxXwwrxmY"
      },
      "execution_count": null,
      "outputs": []
    },
    {
      "cell_type": "code",
      "source": [
        "import pandas as pd\n",
        "from sklearn.model_selection import train_test_split\n",
        "from sklearn.preprocessing import StandardScaler\n",
        "from sklearn.svm import SVC\n",
        "from sklearn.metrics import classification_report, accuracy_score, confusion_matrix\n",
        "import matplotlib.pyplot as plt\n",
        "import seaborn as sns\n",
        "\n",
        "# Loaded dataset\n",
        "data = pd.read_csv('/content/df_SMOTE2.csv')\n",
        "\n",
        "# Data are devided based on the last column: 'y_yes'\n",
        "X = data.iloc[:, :-1]  # all columns except 'y_yes' column\n",
        "y = data.iloc[:, -1]   # 'y_yes' column\n",
        "\n",
        "# Setting data into the training and testing sets\n",
        "X_train, X_test, y_train, y_test = train_test_split(X, y, test_size=0.3, random_state=42)\n",
        "\n",
        "# standardizing the data\n",
        "scaler = StandardScaler()\n",
        "X_train = scaler.fit_transform(X_train)\n",
        "X_test = scaler.transform(X_test)\n",
        "\n",
        "from sklearn.model_selection import GridSearchCV\n",
        "\n",
        "# Definování mřížky parametrů pro GridSearch\n",
        "param_grid = {\n",
        "    'kernel': ['linear', 'rbf', 'poly'],\n",
        "    'C': [0.1, 1, 10, 100],\n",
        "    'gamma': ['scale', 'auto']\n",
        "}\n",
        "\n",
        "# Použití GridSearchCV s 5-fold cross-validation\n",
        "grid_search = GridSearchCV(SVC(probability=True), param_grid, cv=10, scoring='accuracy')\n",
        "grid_search.fit(X_train, y_train)\n",
        "\n",
        "# Nejlepší parametry a model\n",
        "best_params = grid_search.best_params_\n",
        "best_model = grid_search.best_estimator_\n",
        "\n",
        "print(\"Best parameters found:\", best_params)\n",
        "\n",
        "# Predikce a vyhodnocení nejlepšího modelu\n",
        "y_pred_best = best_model.predict(X_test)\n",
        "print(\"Accuracy:\", accuracy_score(y_test, y_pred_best))\n",
        "print(\"Classification Report:\\n\", classification_report(y_test, y_pred_best))\n"
      ],
      "metadata": {
        "id": "8MRzgvPtsUkY"
      },
      "execution_count": null,
      "outputs": []
    },
    {
      "cell_type": "code",
      "source": [
        "# Predikce s NN\n",
        "import pandas as pd\n",
        "import numpy as np\n",
        "from sklearn.datasets import load_iris\n",
        "from sklearn.linear_model import Perceptron\n",
        "from sklearn.model_selection import train_test_split\n",
        "from sklearn.metrics import classification_report\n",
        "\n",
        "# Loaded dataset\n",
        "data = pd.read_csv('/content/df_SMOTE2.csv')\n",
        "\n",
        "# Data are devided based on the last column: 'y_yes'\n",
        "X = data.iloc[:, :-1]  # all columns except 'y_yes' column\n",
        "y = data.iloc[:, -1]   # 'y_yes' column\n",
        "\n",
        "# Setting data into the training and testing sets\n",
        "X_train, X_test, y_train, y_test = train_test_split(X, y, test_size=0.34, random_state=42)\n",
        "\n",
        "perceptron = Perceptron(max_iter=5, random_state=42)\n",
        "\n",
        "perceptron.fit(X_train, y_train)\n",
        "\n",
        "y_pred = perceptron.predict(X_test)\n",
        "print(y_pred)\n",
        "\n",
        "print(classification_report(y_test, y_pred))"
      ],
      "metadata": {
        "id": "Agxb2SdqGrrs"
      },
      "execution_count": null,
      "outputs": []
    },
    {
      "cell_type": "markdown",
      "source": [
        "**SANDRA** - RANDOM FOREST, Pipeline"
      ],
      "metadata": {
        "id": "qWz9H_tKuDlj"
      }
    },
    {
      "cell_type": "code",
      "source": [
        "# Random Forest model\n",
        "from sklearn import datasets\n",
        "from sklearn.model_selection import train_test_split, GridSearchCV\n",
        "from sklearn.ensemble import RandomForestClassifier\n",
        "from sklearn.metrics import accuracy_score\n",
        "import matplotlib.pyplot as plt\n",
        "from sklearn.pipeline import Pipeline\n",
        "from sklearn.decomposition import PCA\n",
        "import numpy as np\n",
        "import pandas as pd\n",
        "\n",
        "# Load the dataset\n",
        "data = pd.read_csv('/content/sample_data/df_ready.csv')\n",
        "data1 = pd.read_csv('df_SMOTE2.csv')\n",
        "X = data.iloc[:, :-1] # Features\n",
        "y= data.iloc[:, -1] # Target variable\n",
        "X_smote = data1.iloc[:, :-1] # Features\n",
        "y_smote = data1.iloc[:, -1] # Target variable\n",
        "\n",
        "# Split the dataset into training and test sets\n",
        "X_train, X_test, y_train, y_test = train_test_split(X, y, test_size=0.2, random_state=42)\n",
        "X_smote_train, X_smote_test, y_smote_train, y_smote_test = train_test_split(X_smote, y_smote, test_size=0.2, random_state=42)\n",
        "\n",
        "# Random Forest classifier with 25 trees\n",
        "clf_25 = RandomForestClassifier(n_estimators=25, criterion='log_loss', min_samples_leaf=4, random_state=42)\n",
        "clf_25.fit(X_train, y_train)\n",
        "y_pred_25 = clf_25.predict(X_test)\n",
        "accuracy_25 = accuracy_score(y_test, y_pred_25)\n",
        "print(\"Accuracy with 25 trees: {:.2f}%\".format(accuracy_25 * 100))\n",
        "\n",
        "# Random Forest classifier with 25 trees with smote\n",
        "clf_25_smote = RandomForestClassifier(n_estimators=25, criterion='log_loss', min_samples_leaf=4, random_state=42)\n",
        "clf_25_smote.fit(X_smote_train, y_smote_train)\n",
        "y_pred_25_smote = clf_25_smote.predict(X_smote_test)\n",
        "accuracy_25_smote = accuracy_score(y_smote_test, y_pred_25_smote)\n",
        "print(\"Accuracy with 25 trees- new dataset: {:.2f}%\".format(accuracy_25_smote * 100))\n",
        "\n",
        "# Random Forest classifier with 50 trees\n",
        "clf_50 = RandomForestClassifier(n_estimators=50, criterion='log_loss', min_samples_leaf=4, random_state=42)\n",
        "clf_50.fit(X_train, y_train)\n",
        "y_pred_50 = clf_50.predict(X_test)\n",
        "accuracy_50 = accuracy_score(y_test, y_pred_50)\n",
        "print(\"Accuracy with 50 trees: {:.2f}%\".format(accuracy_50 * 100))\n",
        "\n",
        "# Random Forest classifier with 50 trees with smote\n",
        "clf_50_smote = RandomForestClassifier(n_estimators=50, criterion='log_loss', min_samples_leaf=4, random_state=42)\n",
        "clf_50_smote.fit(X_smote_train, y_smote_train)\n",
        "y_pred_50_smote = clf_50_smote.predict(X_smote_test)\n",
        "accuracy_50_smote = accuracy_score(y_smote_test, y_pred_50_smote)\n",
        "print(\"Accuracy with 50 trees- new dataset: {:.2f}%\".format(accuracy_50_smote * 100))\n",
        "\n",
        "# Random Forest classifier with 75 trees\n",
        "clf_75 = RandomForestClassifier(n_estimators=75, criterion='log_loss', min_samples_leaf=4, random_state=42)\n",
        "clf_75.fit(X_train, y_train)\n",
        "y_pred_75 = clf_75.predict(X_test)\n",
        "accuracy_75 = accuracy_score(y_test, y_pred_75)\n",
        "print(\"Accuracy with 75 trees: {:.2f}%\".format(accuracy_75 * 100))\n",
        "\n",
        "# Create a Random Forest classifier with 200 trees\n",
        "clf_200 = RandomForestClassifier(n_estimators=200, criterion='log_loss', min_samples_leaf=4, random_state=42)\n",
        "clf_200.fit(X_train, y_train)\n",
        "y_pred_200 = clf_200.predict(X_test)\n",
        "accuracy_200 = accuracy_score(y_test, y_pred_200)\n",
        "print(\"Accuracy with 200 trees: {:.2f}%\".format(accuracy_200 * 100))\n",
        "\n",
        "# Create a Random Forest classifier with 200 trees smote\n",
        "clf_200_smote = RandomForestClassifier(n_estimators=200, criterion='log_loss', min_samples_leaf=4, random_state=42)\n",
        "clf_200_smote.fit(X_smote_train, y_smote_train)\n",
        "y_pred_200_smote = clf_200_smote.predict(X_smote_test)\n",
        "accuracy_200_smote = accuracy_score(y_smote_test, y_pred_200_smote)\n",
        "print(\"Accuracy with 200 trees- new dataset: {:.2f}%\".format(accuracy_200_smote * 100))"
      ],
      "metadata": {
        "id": "3BEuzAppuFxB"
      },
      "execution_count": null,
      "outputs": []
    },
    {
      "cell_type": "code",
      "source": [
        "pipe_rf = Pipeline([\n",
        "    ('pca', PCA(n_components=2)),\n",
        "    ('clf', GridSearchCV(\n",
        "        estimator=RandomForestClassifier(random_state=42),\n",
        "        param_grid={\n",
        "            \"n_estimators\": [75, 50, 100,200],\n",
        "            \"min_samples_split\": [2, 3, 4, 5],\n",
        "            \"min_samples_leaf\": [1,2,3]},\n",
        "        cv=5, verbose=0)\n",
        "    )\n",
        "])\n",
        "pipe_rf.fit(X_train,y_train)\n",
        "y_pred = pipe_rf.predict(X_test)\n",
        "accuracy = accuracy_score(y_test, y_pred)\n",
        "print(\"Accuracy after PCA and GridSearchCV: {:.2f}%\".format(accuracy * 100))"
      ],
      "metadata": {
        "id": "fAIZABbeuG8h"
      },
      "execution_count": null,
      "outputs": []
    },
    {
      "cell_type": "markdown",
      "source": [
        "**MAREK** - random forest - Tento klasifikační model byl zvolen k predikaci"
      ],
      "metadata": {
        "id": "dMralzkXAFEN"
      }
    },
    {
      "cell_type": "code",
      "execution_count": null,
      "metadata": {
        "colab": {
          "base_uri": "https://localhost:8080/",
          "height": 645
        },
        "id": "9YhOlrTO7AuA",
        "outputId": "73019940-cdb4-4ab6-bdb3-3ac529b9b5ae"
      },
      "outputs": [
        {
          "output_type": "stream",
          "name": "stdout",
          "text": [
            "Overall Accuracy: 0.8453389830508474\n",
            "Classification Report:\n",
            "               precision    recall  f1-score   support\n",
            "\n",
            "           0       0.83      0.86      0.85       472\n",
            "           1       0.86      0.83      0.84       472\n",
            "\n",
            "    accuracy                           0.85       944\n",
            "   macro avg       0.85      0.85      0.85       944\n",
            "weighted avg       0.85      0.85      0.85       944\n",
            "\n"
          ]
        },
        {
          "output_type": "display_data",
          "data": {
            "text/plain": [
              "<Figure size 640x480 with 2 Axes>"
            ],
            "image/png": "[encoded data removed]"
          },
          "metadata": {}
        }
      ],
      "source": [
        "import pandas as pd\n",
        "from sklearn.ensemble import RandomForestClassifier\n",
        "from sklearn.model_selection import KFold, cross_val_predict\n",
        "from sklearn.metrics import accuracy_score, confusion_matrix, classification_report, ConfusionMatrixDisplay\n",
        "import matplotlib.pyplot as plt\n",
        "\n",
        "# Load the data\n",
        "file_path = 'df_SMOTE2.csv'\n",
        "data = pd.read_csv(file_path)\n",
        "\n",
        "# Separate features and target\n",
        "X = data.drop(columns=['y_yes'])\n",
        "y = data['y_yes']\n",
        "\n",
        "# Initialize the Random Forest classifier\n",
        "rf_clf = RandomForestClassifier(random_state=42)\n",
        "\n",
        "# Initialize KFold with 5 splits\n",
        "kf = KFold(n_splits=5, shuffle=True, random_state=42)\n",
        "\n",
        "# Perform cross-validation and get predictions\n",
        "y_pred = cross_val_predict(rf_clf, X, y, cv=kf)\n",
        "\n",
        "# Compute and print the accuracy\n",
        "accuracy = accuracy_score(y, y_pred)\n",
        "print(f\"Overall Accuracy: {accuracy}\")\n",
        "\n",
        "# Compute and display the confusion matrix\n",
        "cm = confusion_matrix(y, y_pred)\n",
        "disp = ConfusionMatrixDisplay(confusion_matrix=cm, display_labels=[0, 1])\n",
        "disp.plot(cmap='Blues')\n",
        "\n",
        "# Print the classification report\n",
        "print(\"Classification Report:\\n\", classification_report(y, y_pred))\n",
        "\n",
        "# Show the plot\n",
        "plt.show()"
      ]
    },
    {
      "cell_type": "code",
      "source": [
        "import pandas as pd\n",
        "from sklearn.ensemble import RandomForestClassifier\n",
        "\n",
        "# Load the new dataset\n",
        "new_file_path = 'to_clean_cleaned.csv'\n",
        "new_data = pd.read_csv(new_file_path)\n",
        "\n",
        "# Ensure the new dataset has the same features as the original dataset\n",
        "# Note: Modify this if necessary to match the actual feature names\n",
        "new_X = new_data[X.columns]\n",
        "\n",
        "# Initialize the Random Forest classifier\n",
        "rf_clf = RandomForestClassifier(random_state=42)\n",
        "\n",
        "# Fit the classifier on the original data\n",
        "rf_clf.fit(X, y)\n",
        "\n",
        "# Make predictions on the new data\n",
        "new_y_pred = rf_clf.predict(new_X)\n",
        "\n",
        "# Add predictions to the new dataset\n",
        "new_data['Predictions'] = new_y_pred\n",
        "\n",
        "# Save the new dataset with predictions\n",
        "output_file_path = 'new_data_with_predictions.csv'\n",
        "new_data.to_csv(output_file_path, index=False)\n",
        "\n",
        "print(f\"Predictions have been added to the new dataset and saved to {output_file_path}.\")"
      ],
      "metadata": {
        "colab": {
          "base_uri": "https://localhost:8080/"
        },
        "id": "_bu9xgX1ALEX",
        "outputId": "754a8901-6c98-44af-bef5-fd2d1a84e143"
      },
      "execution_count": null,
      "outputs": [
        {
          "output_type": "stream",
          "name": "stdout",
          "text": [
            "Predictions have been added to the new dataset and saved to new_data_with_predictions.csv.\n"
          ]
        }
      ]
    },
    {
      "cell_type": "markdown",
      "source": [
        "Získání výsledného datasetu k druhé fázi:\n",
        "\n",
        "Zkoumání poměrů mezi skupinami:\n",
        "\n",
        "**Skupina 1** - (Nejvyšší expected revenue při probability alespoň 0,3) (Nejvyšší probability)\n",
        "\n",
        "**Skupina 2** -  (Nejvyšší probability). K výběru optimální rozložení zisku a míry pravděpodobnosti.\n",
        "\n",
        "\n",
        "\n",
        "\n",
        "\n"
      ],
      "metadata": {
        "id": "Z3jaB3o7JdAD"
      }
    },
    {
      "cell_type": "code",
      "source": [
        "import pandas as pd\n",
        "from IPython.display import display\n",
        "\n",
        "# Načtení nahraného datasetu\n",
        "file_path = 'Sorted_Client_Data.csv'\n",
        "df = pd.read_csv(file_path)\n",
        "\n",
        "# Odstranění duplicit podle client_id\n",
        "df = df.drop_duplicates(subset='client_id')\n",
        "\n",
        "# Konverze expected_revenue na numerický typ\n",
        "df['expected_revenue'] = pd.to_numeric(df['expected_revenue'], errors='coerce')\n",
        "\n",
        "# Filtrace klientů, kteří nejsou v defaultu\n",
        "df = df[df['in_default'] == 'no']\n",
        "\n",
        "# Skupina 1: Klienti s nejvyšším expected_revenue a prob_1 alespoň 0.3\n",
        "group1 = df[df['prob_1'] >= 0.3].sort_values(by='expected_revenue', ascending=False)\n",
        "\n",
        "# Skupina 2: Klienti s nejvyšším prob_1\n",
        "group2 = df.sort_values(by='prob_1', ascending=False)\n",
        "\n",
        "# Počet klientů v každé skupině\n",
        "total_clients = 5000\n",
        "\n",
        "# Výpočet metrik pro různé poměry\n",
        "results = []\n",
        "\n",
        "# For Loop, který přiděluje ratio\n",
        "for g1_ratio in range(11):\n",
        "    g2_ratio = 10 - g1_ratio\n",
        "    n_g1 = (g1_ratio * total_clients) // 10\n",
        "    n_g2 = total_clients - n_g1\n",
        "\n",
        "    selected_group1 = group1.head(n_g1)\n",
        "    selected_group2 = group2.head(n_g2)\n",
        "\n",
        "    combined_group = pd.concat([selected_group1, selected_group2]).drop_duplicates(subset='client_id').head(total_clients)\n",
        "\n",
        "    avg_prob_1 = combined_group['prob_1'].mean()\n",
        "    total_expected_revenue = combined_group['expected_revenue'].sum()\n",
        "\n",
        "    results.append({\n",
        "        'group1_ratio': g1_ratio / 10,\n",
        "        'group2_ratio': g2_ratio / 10,\n",
        "        'avg_prob_1': avg_prob_1,\n",
        "        'total_expected_revenue': total_expected_revenue\n",
        "    })\n",
        "\n",
        "# Převod výsledků na DataFrame pro snadnou analýzu\n",
        "results_df = pd.DataFrame(results)\n",
        "\n",
        "# Zobrazení DataFrame\n",
        "display(results_df)\n",
        "\n",
        "# Výběr top 5000 klientů podle prob_1\n",
        "top_5000_clients = df.nlargest(5000, 'prob_1')\n",
        "\n",
        "# Výpočet průměrné hodnoty prob_1 a celkových očekávaných příjmů\n",
        "average_prob_1 = top_5000_clients['prob_1'].mean()\n",
        "total_expected_revenue = top_5000_clients['expected_revenue'].sum()\n",
        "\n",
        "print(f'Average prob_1: {average_prob_1}')\n",
        "print(f'Total expected revenue: {total_expected_revenue}')\n",
        "\n",
        "# Uložení top 5000 klientů do nového CSV souboru\n",
        "output_file_path = 'Top_5000_Clients.csv'\n",
        "top_5000_clients.to_csv(output_file_path, index=False)"
      ],
      "metadata": {
        "id": "bnljsCmbpQrO"
      },
      "execution_count": null,
      "outputs": []
    },
    {
      "cell_type": "code",
      "source": [
        "import pandas as pd\n",
        "\n",
        "# Načtení CSV souboru\n",
        "file_path = 'Sorted_Client_Data.csv'\n",
        "data = pd.read_csv(file_path)\n",
        "\n",
        "# Výběr top 5000 klientů podle prob_1\n",
        "top_5000_clients = data.nlargest(5000, 'prob_1')\n",
        "\n",
        "# Výpočet průměrné hodnoty prob_1 a celkových očekávaných příjmů\n",
        "average_prob_1 = top_5000_clients['prob_1'].mean()\n",
        "total_expected_revenue = top_5000_clients['expected_revenue'].sum()\n",
        "\n",
        "print(f'Average prob_1: {average_prob_1}')\n",
        "print(f'Total expected revenue: {total_expected_revenue}')\n",
        "\n",
        "# Uložení top 5000 klientů do nového CSV souboru\n",
        "output_file_path = 'Top_5000_Clients.csv'\n",
        "top_5000_clients.to_csv(output_file_path, index=False)\n",
        "\n",
        "# Kód pro stažení souboru\n",
        "import shutil\n",
        "\n",
        "def download_file(file_path, output_path):\n",
        "    shutil.copy(file_path, output_path)\n",
        "    print(f'Soubor byl uložen na: {output_path}')"
      ],
      "metadata": {
        "id": "RryFi7OOJ-47"
      },
      "execution_count": null,
      "outputs": []
    },
    {
      "cell_type": "markdown",
      "source": [
        "Výpočet předpokládané míry konverze\n"
      ],
      "metadata": {
        "id": "hO98zhQSKLoU"
      }
    },
    {
      "cell_type": "code",
      "source": [
        "import pandas as pd\n",
        "import numpy as np\n",
        "import matplotlib.pyplot as plt\n",
        "import seaborn as sns\n",
        "import plotly.express as px\n",
        "import plotly.graph_objects as go\n",
        "\n",
        "# Load the CSV file\n",
        "data = pd.read_csv('Top_5000_Clients.csv')\n",
        "\n",
        "# Display the first few rows of the dataframe\n",
        "print(data.head())\n",
        "\n",
        "def calculate_estimated_conversion(df):\n",
        "\n",
        "    # Calculate the estimated conversion rate\n",
        "    estimated_conversion_rate = df['prob_1'].mean()\n",
        "\n",
        "    # Calculate the estimated conversion value\n",
        "    estimated_conversion_value = (df['prob_1'] * df['monthly_income']).sum()\n",
        "\n",
        "    return estimated_conversion_rate, estimated_conversion_value\n",
        "\n",
        "# Perform the calculation\n",
        "estimated_conversion_rate, estimated_conversion_value = calculate_estimated_conversion(data)\n",
        "\n",
        "print(f\"Estimated Conversion Rate: {estimated_conversion_rate * 100:.2f}%\")\n",
        "print(f\"Estimated Conversion Value: {estimated_conversion_value:.2f}\")"
      ],
      "metadata": {
        "id": "Pnff0bULKMo6"
      },
      "execution_count": null,
      "outputs": []
    },
    {
      "cell_type": "code",
      "source": [
        "\n"
      ],
      "metadata": {
        "id": "9IDE5JWYo-lR"
      },
      "execution_count": null,
      "outputs": []
    }
  ]
}